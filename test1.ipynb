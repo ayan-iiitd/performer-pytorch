{
 "cells": [
  {
   "cell_type": "code",
   "execution_count": 1,
   "metadata": {},
   "outputs": [],
   "source": [
    "import tqdm\n",
    "import torch\n",
    "import torch.optim as optim\n",
    "from performer_pytorch import PerformerEncDec\n",
    "from torch.cuda.amp import autocast, GradScaler"
   ]
  },
  {
   "cell_type": "code",
   "execution_count": 2,
   "metadata": {},
   "outputs": [],
   "source": [
    "# constants\n",
    "\n",
    "NUM_BATCHES = int(1e5)\n",
    "BATCH_SIZE = 32\n",
    "LEARNING_RATE = 1e-4\n",
    "GENERATE_EVERY  = 100\n",
    "NUM_TOKENS = 16 + 2\n",
    "ENC_SEQ_LEN = 32\n",
    "DEC_SEQ_LEN = 64 + 1"
   ]
  },
  {
   "cell_type": "code",
   "execution_count": 3,
   "metadata": {},
   "outputs": [],
   "source": [
    "# helpers\n",
    "\n",
    "def cycle():\n",
    "    while True:\n",
    "        prefix = torch.ones((BATCH_SIZE, 1)).long().cuda()\n",
    "        src = torch.randint(2, NUM_TOKENS, (BATCH_SIZE, ENC_SEQ_LEN)).long().cuda()\n",
    "        tgt = torch.cat((prefix, src, src), 1)\n",
    "        src_mask = torch.ones(BATCH_SIZE, ENC_SEQ_LEN).bool().cuda()\n",
    "        tgt_mask = torch.ones(BATCH_SIZE, tgt.shape[1]).bool().cuda()\n",
    "        yield (src, tgt, src_mask, tgt_mask)"
   ]
  },
  {
   "cell_type": "code",
   "execution_count": 4,
   "metadata": {},
   "outputs": [
    {
     "name": "stdout",
     "output_type": "stream",
     "text": [
      "unable to import cuda code for auto-regressive Performer. will default to the memory inefficient non-cuda version\n",
      "unable to import cuda code for auto-regressive Performer. will default to the memory inefficient non-cuda version\n",
      "unable to import cuda code for auto-regressive Performer. will default to the memory inefficient non-cuda version\n"
     ]
    }
   ],
   "source": [
    "# instantiate model\n",
    "\n",
    "model = PerformerEncDec(\n",
    "    dim=512,\n",
    "    enc_num_tokens=NUM_TOKENS,\n",
    "    enc_depth=1,\n",
    "    enc_heads=8,\n",
    "    enc_max_seq_len=ENC_SEQ_LEN,\n",
    "    enc_reversible=True,\n",
    "    enc_feature_redraw_interval=1000,\n",
    "    enc_nb_features = 64,\n",
    "    dec_num_tokens=NUM_TOKENS,\n",
    "    dec_depth=3,\n",
    "    dec_heads=8,\n",
    "    dec_max_seq_len=DEC_SEQ_LEN,\n",
    "    dec_reversible=True,\n",
    "    dec_feature_redraw_interval=1000,\n",
    "    dec_nb_features=64\n",
    ").cuda()"
   ]
  },
  {
   "cell_type": "code",
   "execution_count": 5,
   "metadata": {},
   "outputs": [],
   "source": [
    "# optimizer\n",
    "\n",
    "optim = torch.optim.Adam(model.parameters(), lr=LEARNING_RATE)\n",
    "scaler = GradScaler()"
   ]
  },
  {
   "cell_type": "code",
   "execution_count": 6,
   "metadata": {},
   "outputs": [
    {
     "name": "stderr",
     "output_type": "stream",
     "text": [
      "training:   0%|          | 0/100000 [00:00<?, ?it/s]\n"
     ]
    }
   ],
   "source": [
    "for i in tqdm.tqdm(range(NUM_BATCHES), mininterval=10., desc='training'):\n",
    "\n",
    "    ##### My lines start here\n",
    "\n",
    "    src, tgt, src_mask, tgt_mask = next(cycle())\n",
    "\n",
    "\n",
    "\n",
    "\n",
    "\n",
    "    break\n",
    "    ##### My lines end here\n",
    "\n",
    "\n",
    "\n",
    "    # model.train()\n",
    "\n",
    "    # src, tgt, src_mask, tgt_mask = next(cycle())\n",
    "\n",
    "    # with autocast():\n",
    "    #     loss = model(src, tgt, enc_mask=src_mask, dec_mask=tgt_mask)\n",
    "\n",
    "    # scaler.scale(loss).backward()\n",
    "    # print(f'{i}: {loss.item()}')\n",
    "\n",
    "    # scaler.step(optim)\n",
    "    # scaler.update()\n",
    "    # optim.zero_grad()\n",
    "\n",
    "    # if i != 0 and i % GENERATE_EVERY == 0:\n",
    "    #     model.eval()\n",
    "    #     src, _, src_mask, _ = next(cycle())\n",
    "    #     src, src_mask = src[:1], src_mask[:1]\n",
    "    #     start_tokens = (torch.ones((1, 1)) * 1).long().cuda()\n",
    "\n",
    "    #     sample = model.generate(src, start_tokens, ENC_SEQ_LEN, enc_mask=src_mask)\n",
    "    #     incorrects = (src != sample).abs().sum()\n",
    "\n",
    "    #     print(f\"input:  \", src)\n",
    "    #     print(f\"predicted output:  \", sample)\n",
    "    #     print(f\"incorrects: {incorrects}\")"
   ]
  },
  {
   "cell_type": "code",
   "execution_count": null,
   "metadata": {},
   "outputs": [],
   "source": [
    "torch.display"
   ]
  },
  {
   "cell_type": "code",
   "execution_count": 7,
   "metadata": {},
   "outputs": [
    {
     "data": {
      "text/plain": [
       "tensor([[ 2, 15, 16,  ...,  4, 10,  9],\n",
       "        [ 7,  2, 17,  ...,  9, 11,  7],\n",
       "        [11,  6,  8,  ..., 16, 13, 17],\n",
       "        ...,\n",
       "        [16,  8,  4,  ...,  8,  4,  6],\n",
       "        [11,  3, 16,  ..., 17,  5,  7],\n",
       "        [ 6, 14,  5,  ...,  7, 14, 16]], device='cuda:0')"
      ]
     },
     "execution_count": 7,
     "metadata": {},
     "output_type": "execute_result"
    }
   ],
   "source": [
    "src"
   ]
  },
  {
   "cell_type": "code",
   "execution_count": 8,
   "metadata": {},
   "outputs": [
    {
     "data": {
      "text/plain": [
       "tensor([[ 1,  2, 15,  ...,  4, 10,  9],\n",
       "        [ 1,  7,  2,  ...,  9, 11,  7],\n",
       "        [ 1, 11,  6,  ..., 16, 13, 17],\n",
       "        ...,\n",
       "        [ 1, 16,  8,  ...,  8,  4,  6],\n",
       "        [ 1, 11,  3,  ..., 17,  5,  7],\n",
       "        [ 1,  6, 14,  ...,  7, 14, 16]], device='cuda:0')"
      ]
     },
     "execution_count": 8,
     "metadata": {},
     "output_type": "execute_result"
    }
   ],
   "source": [
    "tgt"
   ]
  },
  {
   "cell_type": "code",
   "execution_count": 13,
   "metadata": {},
   "outputs": [
    {
     "name": "stdout",
     "output_type": "stream",
     "text": [
      "torch.Size([32, 32])\n",
      "torch.Size([32, 65])\n"
     ]
    }
   ],
   "source": [
    "print(src.shape)\n",
    "print(tgt.shape)"
   ]
  },
  {
   "cell_type": "code",
   "execution_count": 9,
   "metadata": {},
   "outputs": [],
   "source": [
    "test_sample = {\"src_txt\": [\"turkey has blocked access to twitter and youtube after they refused a request to remove pictures of a prosecutor held during an armed siege last week .\", \"a turkish court imposed the blocks because images of the deadly siege were being shared on social media and ` deeply upset ' the wife and children of mehmet selim kiraz , the hostage who was killed .\", \"the 46-year-old turkish prosecutor died in hospital when members of the revolutionary people 's liberation party-front ( dhkp-c ) stormed a courthouse and took him hostage .\", \"the dhkp-c is considered a terrorist group by turkey , the european union and us .\", \"a turkish court has blocked access to twitter and youtube after they refused a request to remove pictures of prosecutor mehmet selim kiraz held during an armed siege last week\", \"grief : the family of mehmet selim kiraz grieve over his coffin during his funeral at eyup sultan mosque in istanbul , turkey .\", \"he died in hospital after he was taken hostage by the far-left organisation\", \"two of his captors were killed when security forces took back the building where the far-left group was holding him .\", \"gunshots were heard and smoke could be seen rising from the scene at the end of the six-hour stand-off .\", \"mr kiraz , a father-of-two married to a judge who also worked at the courthouse , was targeted for his part in an investigation into the death of berkin elvan .\", \"the 15-year-old was severely wounded after being hit on the head by a tear-gas canister fired by a police officer during anti-government protests in istanbul in june 2013 .\", \"after spending 269 days in a coma , elvan eventually died on march 11 last year .\", \"his death , and the subsequent investigation , have since become a rallying point for the country 's far-left .\", \"gathering : prosecutors , lawyers and judges stand near a statue of lady justice during the funeral ceremony\", \"a british national , of polish origin but who has not been named , was arrested on saturday as part of an operation against the revolutionary people 's liberation party-front , according to reports .\", \"a foreign office spokeswoman said this morning : ' i can confirm that a british national has been arrested in turkey and that we are offering consular assistance . '\", \"before imposing the blocks on the websites , turkish authorities had tried to prevent newspapers printing images taken during the siege last week .\", \"the newspapers were accused by the government of ` spreading terrorist propaganda ' in sharing the images of the hostage-taking .\", \"presidential spokesman ibrahim kalin said : ` this has to do with the publishing of the prosecutor 's\", \"what happened in the aftermath ( of the prosecutor 's\", \"killing ) is as grim as the incident itself .\", \"` the demand from the prosecutor 's office is that this image\", \"not be used anywhere in electronic platforms .\", \"` the wife and children of prosecutor kiraz have been deeply\", \"the images are everywhere . '\", \"he added : ' a request has been made to both twitter and youtube for the\", \"removal of the images and posts but they have not accepted it\", \"and no response has been given .\", \"this decision has been taken through a court in istanbul . '\", \"critical : prosecutor mehmet selim kiraz was taken to hospital with gunshot wounds but died of his injuries\", \"strength of feeling : elvan has since become an icon for the turkish far-left and his supporters accuse the authorities of covering up the circumstances and perpetrators of his death\", \"google said it was working to restore service to the youtube\", \"video-sharing site , which it owns .\", \"working to restore access for its users .\", \"facebook said it had complied with a turkish court order requiring it to restrict access to some content or face a block on its service .\", \"a company spokesman said it would appeal the order .\", \"turkey 's telecoms regulator could not immediately be reached\", \"and there was no statement on its website .\", \"this is not the first time that turkish authorities have imposed blocks on social media sites and networks .\", \"in the run-up to local elections in march 2014 blocks were imposed after recordings circulated allegedly revealing corruption among senior officials .\", \"figures provided by twitter revealed that turkey filed more requests to remove content from the social network than any other nation between july and december 2014 .\"], \"tgt_txt\": \"turkish court imposed blocks as images of siege shared on social media<q>images ` deeply upset ' wife and children of hostage mehmet selim kiraz<q>prosecutor , 46 , died in hospital after hostages stormed a courthouse<q>two of his captors were killed when security forces took back the building\"}"
   ]
  },
  {
   "cell_type": "code",
   "execution_count": 10,
   "metadata": {},
   "outputs": [
    {
     "data": {
      "text/plain": [
       "dict_keys(['src_txt', 'tgt_txt'])"
      ]
     },
     "execution_count": 10,
     "metadata": {},
     "output_type": "execute_result"
    }
   ],
   "source": [
    "test_sample.keys()"
   ]
  },
  {
   "cell_type": "code",
   "execution_count": 12,
   "metadata": {},
   "outputs": [
    {
     "data": {
      "text/plain": [
       "['turkey has blocked access to twitter and youtube after they refused a request to remove pictures of a prosecutor held during an armed siege last week .',\n",
       " \"a turkish court imposed the blocks because images of the deadly siege were being shared on social media and ` deeply upset ' the wife and children of mehmet selim kiraz , the hostage who was killed .\",\n",
       " \"the 46-year-old turkish prosecutor died in hospital when members of the revolutionary people 's liberation party-front ( dhkp-c ) stormed a courthouse and took him hostage .\",\n",
       " 'the dhkp-c is considered a terrorist group by turkey , the european union and us .',\n",
       " 'a turkish court has blocked access to twitter and youtube after they refused a request to remove pictures of prosecutor mehmet selim kiraz held during an armed siege last week',\n",
       " 'grief : the family of mehmet selim kiraz grieve over his coffin during his funeral at eyup sultan mosque in istanbul , turkey .',\n",
       " 'he died in hospital after he was taken hostage by the far-left organisation',\n",
       " 'two of his captors were killed when security forces took back the building where the far-left group was holding him .',\n",
       " 'gunshots were heard and smoke could be seen rising from the scene at the end of the six-hour stand-off .',\n",
       " 'mr kiraz , a father-of-two married to a judge who also worked at the courthouse , was targeted for his part in an investigation into the death of berkin elvan .',\n",
       " 'the 15-year-old was severely wounded after being hit on the head by a tear-gas canister fired by a police officer during anti-government protests in istanbul in june 2013 .',\n",
       " 'after spending 269 days in a coma , elvan eventually died on march 11 last year .',\n",
       " \"his death , and the subsequent investigation , have since become a rallying point for the country 's far-left .\",\n",
       " 'gathering : prosecutors , lawyers and judges stand near a statue of lady justice during the funeral ceremony',\n",
       " \"a british national , of polish origin but who has not been named , was arrested on saturday as part of an operation against the revolutionary people 's liberation party-front , according to reports .\",\n",
       " \"a foreign office spokeswoman said this morning : ' i can confirm that a british national has been arrested in turkey and that we are offering consular assistance . '\",\n",
       " 'before imposing the blocks on the websites , turkish authorities had tried to prevent newspapers printing images taken during the siege last week .',\n",
       " \"the newspapers were accused by the government of ` spreading terrorist propaganda ' in sharing the images of the hostage-taking .\",\n",
       " \"presidential spokesman ibrahim kalin said : ` this has to do with the publishing of the prosecutor 's\",\n",
       " \"what happened in the aftermath ( of the prosecutor 's\",\n",
       " 'killing ) is as grim as the incident itself .',\n",
       " \"` the demand from the prosecutor 's office is that this image\",\n",
       " 'not be used anywhere in electronic platforms .',\n",
       " '` the wife and children of prosecutor kiraz have been deeply',\n",
       " \"the images are everywhere . '\",\n",
       " \"he added : ' a request has been made to both twitter and youtube for the\",\n",
       " 'removal of the images and posts but they have not accepted it',\n",
       " 'and no response has been given .',\n",
       " \"this decision has been taken through a court in istanbul . '\",\n",
       " 'critical : prosecutor mehmet selim kiraz was taken to hospital with gunshot wounds but died of his injuries',\n",
       " 'strength of feeling : elvan has since become an icon for the turkish far-left and his supporters accuse the authorities of covering up the circumstances and perpetrators of his death',\n",
       " 'google said it was working to restore service to the youtube',\n",
       " 'video-sharing site , which it owns .',\n",
       " 'working to restore access for its users .',\n",
       " 'facebook said it had complied with a turkish court order requiring it to restrict access to some content or face a block on its service .',\n",
       " 'a company spokesman said it would appeal the order .',\n",
       " \"turkey 's telecoms regulator could not immediately be reached\",\n",
       " 'and there was no statement on its website .',\n",
       " 'this is not the first time that turkish authorities have imposed blocks on social media sites and networks .',\n",
       " 'in the run-up to local elections in march 2014 blocks were imposed after recordings circulated allegedly revealing corruption among senior officials .',\n",
       " 'figures provided by twitter revealed that turkey filed more requests to remove content from the social network than any other nation between july and december 2014 .']"
      ]
     },
     "execution_count": 12,
     "metadata": {},
     "output_type": "execute_result"
    }
   ],
   "source": [
    "test_sample['src_txt']"
   ]
  },
  {
   "cell_type": "code",
   "execution_count": 14,
   "metadata": {},
   "outputs": [
    {
     "ename": "AttributeError",
     "evalue": "type object 'PerformerEncDec' has no attribute '__file__'",
     "output_type": "error",
     "traceback": [
      "\u001b[0;31m---------------------------------------------------------------------------\u001b[0m",
      "\u001b[0;31mAttributeError\u001b[0m                            Traceback (most recent call last)",
      "\u001b[0;32m<ipython-input-14-ec6a3f3754a2>\u001b[0m in \u001b[0;36m<module>\u001b[0;34m\u001b[0m\n\u001b[0;32m----> 1\u001b[0;31m \u001b[0mprint\u001b[0m\u001b[0;34m(\u001b[0m\u001b[0mPerformerEncDec\u001b[0m\u001b[0;34m.\u001b[0m\u001b[0m__file__\u001b[0m\u001b[0;34m)\u001b[0m\u001b[0;34m\u001b[0m\u001b[0;34m\u001b[0m\u001b[0m\n\u001b[0m",
      "\u001b[0;31mAttributeError\u001b[0m: type object 'PerformerEncDec' has no attribute '__file__'"
     ]
    }
   ],
   "source": [
    "print(PerformerEncDec.__file__)"
   ]
  },
  {
   "cell_type": "code",
   "execution_count": null,
   "metadata": {},
   "outputs": [],
   "source": [
    "import inspect\n",
    "inspect.getfile(PerformerEncDec)"
   ]
  },
  {
   "cell_type": "code",
   "execution_count": null,
   "metadata": {},
   "outputs": [],
   "source": []
  }
 ],
 "metadata": {
  "interpreter": {
   "hash": "e7370f93d1d0cde622a1f8e1c04877d8463912d04d973331ad4851f04de6915a"
  },
  "kernelspec": {
   "display_name": "Python 3.10.2 64-bit",
   "language": "python",
   "name": "python3"
  },
  "language_info": {
   "codemirror_mode": {
    "name": "ipython",
    "version": 3
   },
   "file_extension": ".py",
   "mimetype": "text/x-python",
   "name": "python",
   "nbconvert_exporter": "python",
   "pygments_lexer": "ipython3",
   "version": "3.9.7"
  },
  "orig_nbformat": 4
 },
 "nbformat": 4,
 "nbformat_minor": 2
}
